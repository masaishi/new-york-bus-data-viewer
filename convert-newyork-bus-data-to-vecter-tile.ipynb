{
 "cells": [
  {
   "cell_type": "code",
   "execution_count": 1,
   "id": "ef93ff28",
   "metadata": {
    "execution": {
     "iopub.execute_input": "2023-09-06T08:24:03.621374Z",
     "iopub.status.busy": "2023-09-06T08:24:03.620666Z",
     "iopub.status.idle": "2023-09-06T08:25:33.963341Z",
     "shell.execute_reply": "2023-09-06T08:25:33.962207Z"
    },
    "papermill": {
     "duration": 90.353488,
     "end_time": "2023-09-06T08:25:33.966111",
     "exception": false,
     "start_time": "2023-09-06T08:24:03.612623",
     "status": "completed"
    },
    "tags": []
   },
   "outputs": [
    {
     "name": "stdout",
     "output_type": "stream",
     "text": [
      "Requirement already satisfied: fastapi in /opt/conda/lib/python3.10/site-packages (0.98.0)\r\n",
      "Requirement already satisfied: nest-asyncio in /opt/conda/lib/python3.10/site-packages (1.5.6)\r\n",
      "Collecting pyngrok\r\n",
      "  Downloading pyngrok-6.0.0.tar.gz (681 kB)\r\n",
      "\u001b[2K     \u001b[90m━━━━━━━━━━━━━━━━━━━━━━━━━━━━━━━━━━━━━━\u001b[0m \u001b[32m681.2/681.2 kB\u001b[0m \u001b[31m14.8 MB/s\u001b[0m eta \u001b[36m0:00:00\u001b[0m\r\n",
      "\u001b[?25h  Preparing metadata (setup.py) ... \u001b[?25l-\b \bdone\r\n",
      "\u001b[?25hRequirement already satisfied: uvicorn in /opt/conda/lib/python3.10/site-packages (0.22.0)\r\n",
      "Requirement already satisfied: pydantic!=1.8,!=1.8.1,<2.0.0,>=1.7.4 in /opt/conda/lib/python3.10/site-packages (from fastapi) (1.10.9)\r\n",
      "Requirement already satisfied: starlette<0.28.0,>=0.27.0 in /opt/conda/lib/python3.10/site-packages (from fastapi) (0.27.0)\r\n",
      "Requirement already satisfied: PyYAML in /opt/conda/lib/python3.10/site-packages (from pyngrok) (6.0)\r\n",
      "Requirement already satisfied: click>=7.0 in /opt/conda/lib/python3.10/site-packages (from uvicorn) (8.1.7)\r\n",
      "Requirement already satisfied: h11>=0.8 in /opt/conda/lib/python3.10/site-packages (from uvicorn) (0.14.0)\r\n",
      "Requirement already satisfied: typing-extensions>=4.2.0 in /opt/conda/lib/python3.10/site-packages (from pydantic!=1.8,!=1.8.1,<2.0.0,>=1.7.4->fastapi) (4.6.3)\r\n",
      "Requirement already satisfied: anyio<5,>=3.4.0 in /opt/conda/lib/python3.10/site-packages (from starlette<0.28.0,>=0.27.0->fastapi) (3.7.0)\r\n",
      "Requirement already satisfied: idna>=2.8 in /opt/conda/lib/python3.10/site-packages (from anyio<5,>=3.4.0->starlette<0.28.0,>=0.27.0->fastapi) (3.4)\r\n",
      "Requirement already satisfied: sniffio>=1.1 in /opt/conda/lib/python3.10/site-packages (from anyio<5,>=3.4.0->starlette<0.28.0,>=0.27.0->fastapi) (1.3.0)\r\n",
      "Requirement already satisfied: exceptiongroup in /opt/conda/lib/python3.10/site-packages (from anyio<5,>=3.4.0->starlette<0.28.0,>=0.27.0->fastapi) (1.1.1)\r\n",
      "Building wheels for collected packages: pyngrok\r\n",
      "  Building wheel for pyngrok (setup.py) ... \u001b[?25l-\b \b\\\b \bdone\r\n",
      "\u001b[?25h  Created wheel for pyngrok: filename=pyngrok-6.0.0-py3-none-any.whl size=19867 sha256=076cc25b46e7e06b5a0e34d906500a03f9a4cd2ca431f4c3fa58aa23dd142742\r\n",
      "  Stored in directory: /root/.cache/pip/wheels/5c/42/78/0c3d438d7f5730451a25f7ac6cbf4391759d22a67576ed7c2c\r\n",
      "Successfully built pyngrok\r\n",
      "Installing collected packages: pyngrok\r\n",
      "Successfully installed pyngrok-6.0.0\r\n",
      "\r\n",
      "\r\n",
      "\r\n",
      "Suggested packages:\r\n",
      "  sqlite3-doc\r\n",
      "The following NEW packages will be installed:\r\n",
      "  libsqlite3-dev\r\n",
      "0 upgraded, 1 newly installed, 0 to remove and 39 not upgraded.\r\n",
      "Need to get 697 kB of archives.\r\n",
      "After this operation, 2372 kB of additional disk space will be used.\r\n",
      "Get:1 http://archive.ubuntu.com/ubuntu focal-updates/main amd64 libsqlite3-dev amd64 3.31.1-4ubuntu0.5 [697 kB]\r\n",
      "Fetched 697 kB in 1s (604 kB/s)\r\n",
      "Selecting previously unselected package libsqlite3-dev:amd64.\r\n",
      "(Reading database ... 107763 files and directories currently installed.)\r\n",
      "Preparing to unpack .../libsqlite3-dev_3.31.1-4ubuntu0.5_amd64.deb ...\r\n",
      "Unpacking libsqlite3-dev:amd64 (3.31.1-4ubuntu0.5) ...\r\n",
      "Setting up libsqlite3-dev:amd64 (3.31.1-4ubuntu0.5) ...\r\n",
      "Cloning into 'tippecanoe'...\r\n",
      "remote: Enumerating objects: 13565, done.\u001b[K\r\n",
      "remote: Counting objects: 100% (12/12), done.\u001b[K\r\n",
      "remote: Compressing objects: 100% (12/12), done.\u001b[K\r\n",
      "remote: Total 13565 (delta 1), reused 8 (delta 0), pack-reused 13553\u001b[K\r\n",
      "Receiving objects: 100% (13565/13565), 31.64 MiB | 25.76 MiB/s, done.\r\n",
      "Resolving deltas: 100% (8938/8938), done.\r\n",
      "g++ -MMD  -I/usr/local/include -I. -g -Wall -Wshadow -Wsign-compare -Wextra -Wunreachable-code -Wuninitialized -Wshadow -O3 -DNDEBUG  -std=c++11 -c -o geojson.o geojson.cpp\r\n",
      "cc -MMD  -I/usr/local/include -I. -g -Wall -Wshadow -Wsign-compare -Wextra -Wunreachable-code -Wuninitialized -Wshadow -O3 -DNDEBUG  -c -o jsonpull/jsonpull.o jsonpull/jsonpull.c\r\n",
      "g++ -MMD  -I/usr/local/include -I. -g -Wall -Wshadow -Wsign-compare -Wextra -Wunreachable-code -Wuninitialized -Wshadow -O3 -DNDEBUG  -std=c++11 -c -o tile.o tile.cpp\r\n",
      "g++ -MMD  -I/usr/local/include -I. -g -Wall -Wshadow -Wsign-compare -Wextra -Wunreachable-code -Wuninitialized -Wshadow -O3 -DNDEBUG  -std=c++11 -c -o pool.o pool.cpp\r\n",
      "g++ -MMD  -I/usr/local/include -I. -g -Wall -Wshadow -Wsign-compare -Wextra -Wunreachable-code -Wuninitialized -Wshadow -O3 -DNDEBUG  -std=c++11 -c -o mbtiles.o mbtiles.cpp\r\n",
      "g++ -MMD  -I/usr/local/include -I. -g -Wall -Wshadow -Wsign-compare -Wextra -Wunreachable-code -Wuninitialized -Wshadow -O3 -DNDEBUG  -std=c++11 -c -o geometry.o geometry.cpp\r\n",
      "g++ -MMD  -I/usr/local/include -I. -g -Wall -Wshadow -Wsign-compare -Wextra -Wunreachable-code -Wuninitialized -Wshadow -O3 -DNDEBUG  -std=c++11 -c -o projection.o projection.cpp\r\n",
      "g++ -MMD  -I/usr/local/include -I. -g -Wall -Wshadow -Wsign-compare -Wextra -Wunreachable-code -Wuninitialized -Wshadow -O3 -DNDEBUG  -std=c++11 -c -o memfile.o memfile.cpp\r\n",
      "g++ -MMD  -I/usr/local/include -I. -g -Wall -Wshadow -Wsign-compare -Wextra -Wunreachable-code -Wuninitialized -Wshadow -O3 -DNDEBUG  -std=c++11 -c -o mvt.o mvt.cpp\r\n",
      "g++ -MMD  -I/usr/local/include -I. -g -Wall -Wshadow -Wsign-compare -Wextra -Wunreachable-code -Wuninitialized -Wshadow -O3 -DNDEBUG  -std=c++11 -c -o serial.o serial.cpp\r\n",
      "g++ -MMD  -I/usr/local/include -I. -g -Wall -Wshadow -Wsign-compare -Wextra -Wunreachable-code -Wuninitialized -Wshadow -O3 -DNDEBUG  -std=c++11 -c -o main.o main.cpp\r\n",
      "g++ -MMD  -I/usr/local/include -I. -g -Wall -Wshadow -Wsign-compare -Wextra -Wunreachable-code -Wuninitialized -Wshadow -O3 -DNDEBUG  -std=c++11 -c -o text.o text.cpp\r\n",
      "g++ -MMD  -I/usr/local/include -I. -g -Wall -Wshadow -Wsign-compare -Wextra -Wunreachable-code -Wuninitialized -Wshadow -O3 -DNDEBUG  -std=c++11 -c -o dirtiles.o dirtiles.cpp\r\n",
      "g++ -MMD  -I/usr/local/include -I. -g -Wall -Wshadow -Wsign-compare -Wextra -Wunreachable-code -Wuninitialized -Wshadow -O3 -DNDEBUG  -std=c++11 -c -o plugin.o plugin.cpp\r\n",
      "g++ -MMD  -I/usr/local/include -I. -g -Wall -Wshadow -Wsign-compare -Wextra -Wunreachable-code -Wuninitialized -Wshadow -O3 -DNDEBUG  -std=c++11 -c -o read_json.o read_json.cpp\r\n",
      "g++ -MMD  -I/usr/local/include -I. -g -Wall -Wshadow -Wsign-compare -Wextra -Wunreachable-code -Wuninitialized -Wshadow -O3 -DNDEBUG  -std=c++11 -c -o write_json.o write_json.cpp\r\n",
      "g++ -MMD  -I/usr/local/include -I. -g -Wall -Wshadow -Wsign-compare -Wextra -Wunreachable-code -Wuninitialized -Wshadow -O3 -DNDEBUG  -std=c++11 -c -o geobuf.o geobuf.cpp\r\n",
      "g++ -MMD  -I/usr/local/include -I. -g -Wall -Wshadow -Wsign-compare -Wextra -Wunreachable-code -Wuninitialized -Wshadow -O3 -DNDEBUG  -std=c++11 -c -o evaluator.o evaluator.cpp\r\n",
      "g++ -MMD  -I/usr/local/include -I. -g -Wall -Wshadow -Wsign-compare -Wextra -Wunreachable-code -Wuninitialized -Wshadow -O3 -DNDEBUG  -std=c++11 -c -o geocsv.o geocsv.cpp\r\n",
      "g++ -MMD  -I/usr/local/include -I. -g -Wall -Wshadow -Wsign-compare -Wextra -Wunreachable-code -Wuninitialized -Wshadow -O3 -DNDEBUG  -std=c++11 -c -o csv.o csv.cpp\r\n",
      "g++ -MMD  -I/usr/local/include -I. -g -Wall -Wshadow -Wsign-compare -Wextra -Wunreachable-code -Wuninitialized -Wshadow -O3 -DNDEBUG  -std=c++11 -c -o geojson-loop.o geojson-loop.cpp\r\n",
      "g++ -MMD  -I/usr/local/include -I. -g -Wall -Wshadow -Wsign-compare -Wextra -Wunreachable-code -Wuninitialized -Wshadow -O3 -DNDEBUG  -std=c++11 -c -o enumerate.o enumerate.cpp\r\n",
      "g++ -MMD  -I/usr/local/include -I. -g -Wall -Wshadow -Wsign-compare -Wextra -Wunreachable-code -Wuninitialized -Wshadow -O3 -DNDEBUG  -std=c++11 -c -o decode.o decode.cpp\r\n",
      "g++ -MMD  -I/usr/local/include -I. -g -Wall -Wshadow -Wsign-compare -Wextra -Wunreachable-code -Wuninitialized -Wshadow -O3 -DNDEBUG  -std=c++11 -c -o tile-join.o tile-join.cpp\r\n",
      "g++ -MMD  -I/usr/local/include -I. -g -Wall -Wshadow -Wsign-compare -Wextra -Wunreachable-code -Wuninitialized -Wshadow -O3 -DNDEBUG  -std=c++11 -c -o unit.o unit.cpp\r\n",
      "g++ -MMD  -I/usr/local/include -I. -g -Wall -Wshadow -Wsign-compare -Wextra -Wunreachable-code -Wuninitialized -Wshadow -O3 -DNDEBUG  -std=c++11 -c -o jsontool.o jsontool.cpp\r\n",
      "g++  -L/usr/local/lib -g -Wall -Wshadow -Wsign-compare -Wextra -Wunreachable-code -Wuninitialized -Wshadow -O3 -DNDEBUG  -std=c++11 -o tippecanoe-enumerate enumerate.o  -lsqlite3\r\n",
      "g++  -L/usr/local/lib -g -Wall -Wshadow -Wsign-compare -Wextra -Wunreachable-code -Wuninitialized -Wshadow -O3 -DNDEBUG  -std=c++11 -o tippecanoe-json-tool jsontool.o jsonpull/jsonpull.o csv.o text.o geojson-loop.o  -lm -lz -lsqlite3 -lpthread\r\n",
      "g++  -L/usr/local/lib -g -Wall -Wshadow -Wsign-compare -Wextra -Wunreachable-code -Wuninitialized -Wshadow -O3 -DNDEBUG  -std=c++11 -o tippecanoe-decode decode.o projection.o mvt.o write_json.o text.o jsonpull/jsonpull.o dirtiles.o  -lm -lz -lsqlite3\r\n",
      "g++  -L/usr/local/lib -g -Wall -Wshadow -Wsign-compare -Wextra -Wunreachable-code -Wuninitialized -Wshadow -O3 -DNDEBUG  -std=c++11 -o tile-join tile-join.o projection.o pool.o mbtiles.o mvt.o memfile.o dirtiles.o jsonpull/jsonpull.o text.o evaluator.o csv.o write_json.o  -lm -lz -lsqlite3 -lpthread\r\n",
      "g++  -L/usr/local/lib -g -Wall -Wshadow -Wsign-compare -Wextra -Wunreachable-code -Wuninitialized -Wshadow -O3 -DNDEBUG  -std=c++11 -o tippecanoe geojson.o jsonpull/jsonpull.o tile.o pool.o mbtiles.o geometry.o projection.o memfile.o mvt.o serial.o main.o text.o dirtiles.o plugin.o read_json.o write_json.o geobuf.o evaluator.o geocsv.o csv.o geojson-loop.o  -lm -lz -lsqlite3 -lpthread\r\n",
      "g++  -L/usr/local/lib -g -Wall -Wshadow -Wsign-compare -Wextra -Wunreachable-code -Wuninitialized -Wshadow -O3 -DNDEBUG  -std=c++11 -o unit unit.o text.o  -lm -lz -lsqlite3 -lpthread\r\n",
      "mkdir -p /usr/local/bin\r\n",
      "mkdir -p /usr/local/share/man/man1/\r\n",
      "cp tippecanoe /usr/local/bin/tippecanoe\r\n",
      "cp tippecanoe-enumerate /usr/local/bin/tippecanoe-enumerate\r\n",
      "cp tippecanoe-decode /usr/local/bin/tippecanoe-decode\r\n",
      "cp tippecanoe-json-tool /usr/local/bin/tippecanoe-json-tool\r\n",
      "cp tile-join /usr/local/bin/tile-join\r\n",
      "cp man/tippecanoe.1 /usr/local/share/man/man1//tippecanoe.1\r\n"
     ]
    }
   ],
   "source": [
    "!pip install fastapi nest-asyncio pyngrok uvicorn\n",
    "!sudo apt-get install libsqlite3-dev\n",
    "!git clone https://github.com/mapbox/tippecanoe.git && cd tippecanoe && make -j && make install"
   ]
  },
  {
   "cell_type": "code",
   "execution_count": 2,
   "id": "fbd07602",
   "metadata": {
    "_cell_guid": "b1076dfc-b9ad-4769-8c92-a6c4dae69d19",
    "_uuid": "8f2839f25d086af736a60e9eeb907d3b93b6e0e5",
    "execution": {
     "iopub.execute_input": "2023-09-06T08:25:33.998784Z",
     "iopub.status.busy": "2023-09-06T08:25:33.998362Z",
     "iopub.status.idle": "2023-09-06T08:25:35.908194Z",
     "shell.execute_reply": "2023-09-06T08:25:35.906895Z"
    },
    "papermill": {
     "duration": 1.929293,
     "end_time": "2023-09-06T08:25:35.911087",
     "exception": false,
     "start_time": "2023-09-06T08:25:33.981794",
     "status": "completed"
    },
    "tags": []
   },
   "outputs": [],
   "source": [
    "import os\n",
    "import numpy as np\n",
    "import pandas as pd\n",
    "import geopandas as gpd\n",
    "import dask.dataframe as dd\n",
    "import mercantile\n",
    "import csv\n",
    "import json"
   ]
  },
  {
   "cell_type": "code",
   "execution_count": 3,
   "id": "68010099",
   "metadata": {
    "execution": {
     "iopub.execute_input": "2023-09-06T08:25:35.944004Z",
     "iopub.status.busy": "2023-09-06T08:25:35.942962Z",
     "iopub.status.idle": "2023-09-06T08:25:35.950870Z",
     "shell.execute_reply": "2023-09-06T08:25:35.949606Z"
    },
    "papermill": {
     "duration": 0.027494,
     "end_time": "2023-09-06T08:25:35.953668",
     "exception": false,
     "start_time": "2023-09-06T08:25:35.926174",
     "status": "completed"
    },
    "tags": []
   },
   "outputs": [],
   "source": [
    "csv_files = [\n",
    "    \"/kaggle/input/new-york-city-transport-statistics/mta_1706.csv\",\n",
    "    \"/kaggle/input/new-york-city-transport-statistics/mta_1708.csv\",\n",
    "    \"/kaggle/input/new-york-city-transport-statistics/mta_1710.csv\",\n",
    "    \"/kaggle/input/new-york-city-transport-statistics/mta_1712.csv\",\n",
    "]\n",
    "\n",
    "usecols=[\"RecordedAtTime\", \"VehicleLocation.Latitude\", \"VehicleLocation.Longitude\", \"PublishedLineName\", \"VehicleRef\", \"ArrivalProximityText\"]\n",
    "\n",
    "rename_columns = {\n",
    "    'RecordedAtTime': 'time',\n",
    "    'VehicleLocation.Latitude': 'lat',\n",
    "    'VehicleLocation.Longitude': 'long',\n",
    "    \"PublishedLineName\": \"linename\",\n",
    "    \"VehicleRef\": \"ref\",\n",
    "    \"ArrivalProximityText\": \"text\",\n",
    "}"
   ]
  },
  {
   "cell_type": "code",
   "execution_count": 4,
   "id": "36ea4f46",
   "metadata": {
    "execution": {
     "iopub.execute_input": "2023-09-06T08:25:35.986632Z",
     "iopub.status.busy": "2023-09-06T08:25:35.985799Z",
     "iopub.status.idle": "2023-09-06T09:31:03.633111Z",
     "shell.execute_reply": "2023-09-06T09:31:03.631468Z"
    },
    "papermill": {
     "duration": 3927.685884,
     "end_time": "2023-09-06T09:31:03.655015",
     "exception": false,
     "start_time": "2023-09-06T08:25:35.969131",
     "status": "completed"
    },
    "tags": []
   },
   "outputs": [
    {
     "name": "stdout",
     "output_type": "stream",
     "text": [
      "Done!\n",
      "CPU times: user 1h 3min 20s, sys: 1min 19s, total: 1h 4min 40s\n",
      "Wall time: 1h 5min 27s\n"
     ]
    }
   ],
   "source": [
    "%%time\n",
    "for csv_file in csv_files:\n",
    "    df = pd.read_csv(csv_file, usecols=usecols)\n",
    "    df = df.rename(columns=rename_columns)\n",
    "    df.fillna(\"NaN\", inplace=True)\n",
    "    \n",
    "    features = []\n",
    "    \n",
    "    # for _, row in df.head(10000).iterrows():\n",
    "    for _, row in df.iterrows():\n",
    "        feature = {\n",
    "            \"type\": \"Feature\",\n",
    "            \"geometry\": {\n",
    "                \"type\": \"Point\",\n",
    "                \"coordinates\": [float(row['long']), float(row['lat'])]\n",
    "            },\n",
    "            \"properties\": {\n",
    "                \"time\": row['time'],\n",
    "                \"linename\": row['linename'],\n",
    "                \"ref\": row['ref'],\n",
    "                \"text\": row['text'],\n",
    "            }\n",
    "        }\n",
    "        features.append(feature)\n",
    "        \n",
    "    file_name = \"/kaggle/working/\" + csv_file.split(\"/\")[-1].replace(\".csv\", \".geojson\")\n",
    "    with open(file_name, 'w') as geojson_file:\n",
    "        json.dump(features, geojson_file, indent=2)\n",
    "    \n",
    "print('Done!')"
   ]
  },
  {
   "cell_type": "code",
   "execution_count": 5,
   "id": "26ea2d0a",
   "metadata": {
    "execution": {
     "iopub.execute_input": "2023-09-06T09:31:03.689773Z",
     "iopub.status.busy": "2023-09-06T09:31:03.688349Z",
     "iopub.status.idle": "2023-09-06T09:47:41.960127Z",
     "shell.execute_reply": "2023-09-06T09:47:41.958300Z"
    },
    "papermill": {
     "duration": 998.292519,
     "end_time": "2023-09-06T09:47:41.963123",
     "exception": false,
     "start_time": "2023-09-06T09:31:03.670604",
     "status": "completed"
    },
    "tags": []
   },
   "outputs": [
    {
     "name": "stdout",
     "output_type": "stream",
     "text": [
      "mta_1706.geojson:3: Found ] at top level\r\n",
      "mta_1706.geojson:4: Found ] at top level\r\n",
      "mta_1706.geojson:2: Found colon at top level\r\n",
      "mta_1706.geojson:26924983: Reached EOF without all containers being closed\r\n",
      "In JSON object [{\"type\":\"Feature\",\"geometry\":{\"type\":\"Point\",\"coordinates\":[-73.923861]}}]\r\n",
      "mta_1708.geojson:2: Found colon at top level\r\n",
      "mta_1708.geojson:2: Found colon at top level\r\n",
      "mta_1708.geojson:2: Found colon at top level\r\n",
      "mta_1708.geojson:25854402: Reached EOF without all containers being closed\r\n",
      "In JSON object [{}]\r\n",
      "mta_1710.geojson:2: Found } at top level\r\n",
      "mta_1710.geojson:3: Found ] at top level\r\n",
      "mta_1710.geojson:4: Found ] at top level\r\n",
      "mta_1710.geojson:27465142: Reached EOF without all containers being closed\r\n",
      "In JSON object [{\"type\":\"Feature\",\"geometry\":{\"type\":\"Point\",\"coordinates\":[]}}]\r\n",
      "mta_1712.geojson:2: Found colon at top level\r\n",
      "mta_1712.geojson:4: Found ] at top level\r\n",
      "mta_1712.geojson:2: Found colon at top level\r\n",
      "mta_1712.geojson:25847324: Reached EOF without all containers being closed\r\n",
      "In JSON object [{\"type\":\"Feature\",\"geometry\":{\"type\":\"Point\",\"coordinates\":[-73.941254,40.798468]},\"properties\":{\"time\":\"2017-12-08 11:10:59\"}}]\r\n",
      "6630739 features, 254248612 bytes of geometry, 4 bytes of separate metadata, 5007107 bytes of string pool\r\n",
      "Choosing a maxzoom of -z17 for features about 3 feet (1 meters) apart\r\n",
      "tile 13/2412/3078 size is 525368 with detail 12, >500000    \r\n",
      "Going to try keeping the sparsest 85.65% of the features to make it fit\r\n",
      "tile 15/9649/12322 size is 644901 with detail 12, >500000    \r\n",
      "Going to try keeping the sparsest 69.78% of the features to make it fit\r\n",
      "tile 15/9663/12314 size is 507670 with detail 12, >500000    \r\n",
      "Going to try keeping the sparsest 88.64% of the features to make it fit\r\n",
      "tile 16/19308/24618 size is 518909 with detail 12, >500000    \r\n",
      "Going to try keeping the sparsest 86.72% of the features to make it fit\r\n",
      "tile 16/19334/24642 size is 555725 with detail 12, >500000    \r\n",
      "Going to try keeping the sparsest 80.98% of the features to make it fit\r\n",
      "tile 16/19327/24628 size is 722297 with detail 12, >500000    \r\n",
      "Going to try keeping the sparsest 62.30% of the features to make it fit\r\n",
      "tile 16/19298/24645 size is 622215 with detail 12, >500000    \r\n",
      "Going to try keeping the sparsest 72.32% of the features to make it fit\r\n",
      "tile 16/19327/24629 size is 552450 with detail 12, >500000    \r\n",
      "Going to try keeping the sparsest 81.46% of the features to make it fit\r\n",
      "tile 16/19308/24607 size is 788478 with detail 12, >500000    \r\n",
      "Going to try keeping the sparsest 57.07% of the features to make it fit\r\n",
      "tile 16/19316/24604 size is 602792 with detail 12, >500000    \r\n",
      "Going to try keeping the sparsest 74.65% of the features to make it fit\r\n",
      "tile 17/38629/49297 size is 552628 with detail 12, >500000    \r\n",
      "Going to try keeping the sparsest 81.43% of the features to make it fit\r\n",
      "tile 17/38668/49284 size is 837065 with detail 12, >500000    \r\n",
      "Going to try keeping the sparsest 53.76% of the features to make it fit\r\n",
      "tile 17/38596/49289 size is 547569 with detail 12, >500000    \r\n",
      "Going to try keeping the sparsest 82.18% of the features to make it fit\r\n",
      "tile 17/38596/49272 size is 540450 with detail 12, >500000    \r\n",
      "Going to try keeping the sparsest 83.26% of the features to make it fit\r\n",
      "tile 17/38667/49282 size is 682273 with detail 12, >500000    \r\n",
      "Going to try keeping the sparsest 65.96% of the features to make it fit\r\n",
      "tile 17/38665/49285 size is 646090 with detail 12, >500000    \r\n",
      "Going to try keeping the sparsest 69.65% of the features to make it fit\r\n",
      "tile 17/38616/49236 size is 622438 with detail 12, >500000    \r\n",
      "Going to try keeping the sparsest 72.30% of the features to make it fit\r\n",
      "tile 17/38597/49290 size is 519283 with detail 12, >500000    \r\n",
      "Going to try keeping the sparsest 86.66% of the features to make it fit\r\n",
      "tile 17/38597/49291 size is 521106 with detail 12, >500000    \r\n",
      "Going to try keeping the sparsest 86.35% of the features to make it fit\r\n",
      "tile 17/38619/49233 size is 588432 with detail 12, >500000    \r\n",
      "Going to try keeping the sparsest 76.47% of the features to make it fit\r\n",
      "tile 17/38531/49353 size is 543730 with detail 12, >500000    \r\n",
      "Going to try keeping the sparsest 82.76% of the features to make it fit\r\n",
      "tile 17/38614/49286 size is 507694 with detail 12, >500000    \r\n",
      "Going to try keeping the sparsest 88.64% of the features to make it fit\r\n",
      "tile 17/38622/49330 size is 525663 with detail 12, >500000    \r\n",
      "Going to try keeping the sparsest 85.61% of the features to make it fit\r\n",
      "tile 17/38637/49219 size is 551941 with detail 12, >500000    \r\n",
      "Going to try keeping the sparsest 81.53% of the features to make it fit\r\n",
      "tile 17/38655/49258 size is 789255 with detail 12, >500000    \r\n",
      "Going to try keeping the sparsest 57.02% of the features to make it fit\r\n",
      "tile 17/38616/49215 size is 1015207 with detail 12, >500000    \r\n",
      "Going to try keeping the sparsest 44.33% of the features to make it fit\r\n",
      "tile 17/38608/49282 size is 922437 with detail 12, >500000    \r\n",
      "Going to try keeping the sparsest 48.78% of the features to make it fit\r\n",
      "tile 17/38617/49214 size is 570266 with detail 12, >500000    \r\n",
      "Going to try keeping the sparsest 78.91% of the features to make it fit\r\n",
      "tile 17/38666/49285 size is 587269 with detail 12, >500000    \r\n",
      "Going to try keeping the sparsest 76.63% of the features to make it fit\r\n",
      "tile 17/38655/49257 size is 1308265 with detail 12, >500000    \r\n",
      "Going to try keeping the sparsest 34.40% of the features to make it fit\r\n",
      "tile 17/38566/49313 size is 1023731 with detail 12, >500000    \r\n",
      "Going to try keeping the sparsest 43.96% of the features to make it fit\r\n",
      "tile 17/38633/49209 size is 827134 with detail 12, >500000    \r\n",
      "Going to try keeping the sparsest 54.40% of the features to make it fit\r\n",
      "tile 18/77311/98515 size is 548436 with detail 12, >500000    \r\n",
      "Going to try keeping the sparsest 82.05% of the features to make it fit\r\n",
      "tile 18/77232/98430 size is 772526 with detail 12, >500000    \r\n",
      "Going to try keeping the sparsest 58.25% of the features to make it fit\r\n",
      "tile 18/77133/98627 size is 825731 with detail 12, >500000    \r\n",
      "Going to try keeping the sparsest 54.50% of the features to make it fit\r\n",
      "tile 18/77216/98564 size is 753260 with detail 12, >500000    \r\n",
      "Going to try keeping the sparsest 59.74% of the features to make it fit\r\n",
      "tile 19/154432/197128 size is 638008 with detail 12, >500000    \r\n",
      "Going to try keeping the sparsest 70.53% of the features to make it fit\r\n",
      "\r\n"
     ]
    }
   ],
   "source": [
    "!tippecanoe -zg --layer=map --output-to-directory=./outputs --no-tile-compression --drop-densest-as-needed --extend-zooms-if-still-dropping --force -P *.geojson"
   ]
  },
  {
   "cell_type": "code",
   "execution_count": null,
   "id": "ef60f48c",
   "metadata": {
    "papermill": {
     "duration": 0.318123,
     "end_time": "2023-09-06T09:47:42.439248",
     "exception": false,
     "start_time": "2023-09-06T09:47:42.121125",
     "status": "completed"
    },
    "tags": []
   },
   "outputs": [],
   "source": []
  },
  {
   "cell_type": "code",
   "execution_count": 6,
   "id": "0ad63aa3",
   "metadata": {
    "execution": {
     "iopub.execute_input": "2023-09-06T09:47:42.754310Z",
     "iopub.status.busy": "2023-09-06T09:47:42.753828Z",
     "iopub.status.idle": "2023-09-06T09:47:42.759874Z",
     "shell.execute_reply": "2023-09-06T09:47:42.758902Z"
    },
    "papermill": {
     "duration": 0.165972,
     "end_time": "2023-09-06T09:47:42.762429",
     "exception": false,
     "start_time": "2023-09-06T09:47:42.596457",
     "status": "completed"
    },
    "tags": []
   },
   "outputs": [],
   "source": [
    "# import uvicorn\n",
    "# from fastapi import FastAPI\n",
    "# from fastapi.staticfiles import StaticFiles\n",
    "# from fastapi.middleware.cors import CORSMiddleware\n",
    "# from pyngrok import ngrok\n",
    "# import nest_asyncio\n",
    "# import threading\n",
    "\n",
    "\n",
    "# app = FastAPI()\n",
    "\n",
    "# # middlewares\n",
    "# app.add_middleware(\n",
    "#     CORSMiddleware, # https://fastapi.tiangolo.com/tutorial/cors/\n",
    "#     allow_origins=['*'], # wildcard to allow all, more here - https://developer.mozilla.org/en-US/docs/Web/HTTP/Headers/Access-Control-Allow-Origin\n",
    "#     allow_credentials=True, # https://developer.mozilla.org/en-US/docs/Web/HTTP/Headers/Access-Control-Allow-Credentials\n",
    "#     allow_methods=['*'], # https://developer.mozilla.org/en-US/docs/Web/HTTP/Headers/Access-Control-Allow-Methods\n",
    "#     allow_headers=['*'], # https://developer.mozilla.org/en-US/docs/Web/HTTP/Headers/Access-Control-Allow-Headers\n",
    "# )\n",
    "# app.mount(\"/\", StaticFiles(directory=\"/kaggle/working/outputs\"), name=\"outputs\")\n",
    "\n",
    "# # specify a port\n",
    "# port = 8000\n",
    "# ngrok_tunnel = ngrok.connect(port)\n",
    "\n",
    "# # where we can visit our fastAPI app\n",
    "# print('Public URL:', ngrok_tunnel.public_url)\n",
    "\n",
    "\n",
    "# nest_asyncio.apply()\n",
    "\n",
    "# # finally run the app\n",
    "# uvicorn.run(app, port=port)"
   ]
  },
  {
   "cell_type": "code",
   "execution_count": null,
   "id": "226412a6",
   "metadata": {
    "papermill": {
     "duration": 0.154848,
     "end_time": "2023-09-06T09:47:43.073721",
     "exception": false,
     "start_time": "2023-09-06T09:47:42.918873",
     "status": "completed"
    },
    "tags": []
   },
   "outputs": [],
   "source": []
  },
  {
   "cell_type": "code",
   "execution_count": null,
   "id": "a038541c",
   "metadata": {
    "papermill": {
     "duration": 0.158582,
     "end_time": "2023-09-06T09:47:43.389242",
     "exception": false,
     "start_time": "2023-09-06T09:47:43.230660",
     "status": "completed"
    },
    "tags": []
   },
   "outputs": [],
   "source": []
  },
  {
   "cell_type": "code",
   "execution_count": null,
   "id": "d205e698",
   "metadata": {
    "papermill": {
     "duration": 0.15719,
     "end_time": "2023-09-06T09:47:43.703529",
     "exception": false,
     "start_time": "2023-09-06T09:47:43.546339",
     "status": "completed"
    },
    "tags": []
   },
   "outputs": [],
   "source": []
  }
 ],
 "kernelspec": {
  "display_name": "Python 3",
  "language": "python",
  "name": "python3"
 },
 "language_info": {
  "codemirror_mode": {
   "name": "ipython",
   "version": 3
  },
  "file_extension": ".py",
  "mimetype": "text/x-python",
  "name": "python",
  "nbconvert_exporter": "python",
  "pygments_lexer": "ipython3",
  "version": "3.6.4"
 },
 "metadata": {
  "kernelspec": {
   "display_name": "Python 3",
   "language": "python",
   "name": "python3"
  },
  "language_info": {
   "codemirror_mode": {
    "name": "ipython",
    "version": 3
   },
   "file_extension": ".py",
   "mimetype": "text/x-python",
   "name": "python",
   "nbconvert_exporter": "python",
   "pygments_lexer": "ipython3",
   "version": "3.10.12"
  },
  "papermill": {
   "default_parameters": {},
   "duration": 5027.195711,
   "end_time": "2023-09-06T09:47:47.001280",
   "environment_variables": {},
   "exception": null,
   "input_path": "__notebook__.ipynb",
   "output_path": "__notebook__.ipynb",
   "parameters": {},
   "start_time": "2023-09-06T08:23:59.805569",
   "version": "2.4.0"
  }
 },
 "nbformat": 4,
 "nbformat_minor": 5
}
